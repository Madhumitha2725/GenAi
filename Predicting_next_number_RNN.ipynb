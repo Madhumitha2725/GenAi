{
  "nbformat": 4,
  "nbformat_minor": 0,
  "metadata": {
    "colab": {
      "provenance": []
    },
    "kernelspec": {
      "name": "python3",
      "display_name": "Python 3"
    },
    "language_info": {
      "name": "python"
    }
  },
  "cells": [
    {
      "cell_type": "code",
      "execution_count": null,
      "metadata": {
        "id": "ehAiu8UN86fq"
      },
      "outputs": [],
      "source": [
        "import numpy as np\n",
        "from tensorflow.keras.models import Sequential\n",
        "from tensorflow.keras.layers import SimpleRNN, Dense\n",
        "import matplotlib.pyplot as plt"
      ]
    },
    {
      "cell_type": "code",
      "source": [
        "# Create sequence: 1 to 100\n",
        "sequence = np.array([i for i in range(1,1000000)])\n",
        "# define window size (e.g., 3 inputs -> 1 output)\n",
        "window_size = 3\n",
        "X=[]\n",
        "Y=[]\n",
        "# Create input-output pairs\n",
        "for i in range(len(sequence)-window_size):\n",
        "    X.append(sequence[i:i+window_size])\n",
        "    Y.append(sequence[i+window_size])\n",
        "# Convert to numpy arrays\n",
        "X=np.array(X)\n",
        "Y=np.array(Y)\n",
        "# Reshape X to [samples, timestamps, features]\n",
        "X=X.reshape((X.shape[0], X.shape[1],1))"
      ],
      "metadata": {
        "id": "4aoayVPe9ToL"
      },
      "execution_count": null,
      "outputs": []
    },
    {
      "cell_type": "code",
      "source": [
        "model = Sequential()\n",
        "model.add(SimpleRNN(50, activation='relu', input_shape=(window_size,1)))\n",
        "model.add(Dense(1)) # Output layer\n",
        "model.compile(optimizer='adam', loss='mse')"
      ],
      "metadata": {
        "id": "CPhTWr8k9pPj"
      },
      "execution_count": null,
      "outputs": []
    },
    {
      "cell_type": "code",
      "source": [
        "model.fit(X, Y, epochs=800, verbose=0)\n",
        "print(\"Training Completed.\")"
      ],
      "metadata": {
        "id": "ZEbBYNb4-kkj"
      },
      "execution_count": null,
      "outputs": []
    },
    {
      "cell_type": "code",
      "source": [
        "test_input = np.array([213,214,215])\n",
        "test_intput = test_input.reshape((1,window_size,1)) # Reshape for prediction\n",
        "predicted = model.predict(test_intput) # Predict the next number\n",
        "print(f\"Predicted next number : {predicted[0][0]:.2f}\")"
      ],
      "metadata": {
        "colab": {
          "base_uri": "https://localhost:8080/"
        },
        "id": "Zy5EiwMT_Yqc",
        "outputId": "bc41d3b2-ec4d-4abc-c040-276951533949"
      },
      "execution_count": null,
      "outputs": [
        {
          "output_type": "stream",
          "name": "stdout",
          "text": [
            "\u001b[1m1/1\u001b[0m \u001b[32m━━━━━━━━━━━━━━━━━━━━\u001b[0m\u001b[37m\u001b[0m \u001b[1m0s\u001b[0m 152ms/step\n",
            "Predicted next number : 216.07\n"
          ]
        }
      ]
    },
    {
      "cell_type": "code",
      "source": [
        "predictions = model.predict(X)\n",
        "plt.plot(Y,label='True Values')\n",
        "plt.plot(predictions, label='Predicted Values')\n",
        "plt.legend()\n",
        "plt.title(\"Prediction vs True values\")\n",
        "plt.show()"
      ],
      "metadata": {
        "colab": {
          "base_uri": "https://localhost:8080/",
          "height": 469
        },
        "id": "vAMBW9N4ACmy",
        "outputId": "693ffaf8-18da-4716-c9e2-cff609aab4d1"
      },
      "execution_count": null,
      "outputs": [
        {
          "output_type": "stream",
          "name": "stdout",
          "text": [
            "\u001b[1m4/4\u001b[0m \u001b[32m━━━━━━━━━━━━━━━━━━━━\u001b[0m\u001b[37m\u001b[0m \u001b[1m0s\u001b[0m 9ms/step  \n"
          ]
        },
        {
          "output_type": "display_data",
          "data": {
            "text/plain": [
              "<Figure size 640x480 with 1 Axes>"
            ],
            "image/png": "[encoded data removed]"
          },
          "metadata": {}
        }
      ]
    },
    {
      "cell_type": "code",
      "source": [
        "import pickle\n",
        "with open('model.pkl', 'wb') as file:\n",
        "    pickle.dump(model, file)"
      ],
      "metadata": {
        "id": "htVTYA-pL9tt"
      },
      "execution_count": null,
      "outputs": []
    },
    {
      "cell_type": "code",
      "source": [
        "with open('/content/model.pkl', 'rb') as f:\n",
        "    loaded_model = pickle.load(f)"
      ],
      "metadata": {
        "id": "KRf3ynj-MXB8"
      },
      "execution_count": null,
      "outputs": []
    },
    {
      "cell_type": "code",
      "source": [
        "import numpy as np\n",
        "\n",
        "# Ask the user to enter a sequence of numbers\n",
        "input_str = input(\"Enter your input sequence (e.g., 11 12 13): \")\n",
        "\n",
        "# Convert input to NumPy array of shape (1, window_size, 1)\n",
        "input_list = list(map(float, input_str.strip().split()))\n",
        "window_size = len(input_list)  # infer window size from user input\n",
        "\n",
        "my_input = np.array(input_list).reshape((1, window_size, 1))\n",
        "\n",
        "# Get prediction from the loaded model\n",
        "my_prediction = loaded_model.predict(my_input)\n",
        "\n",
        "# Print input and predicted output\n",
        "print(f\"Input: {my_input.flatten()}\")\n",
        "print(f\"Predicted output: {my_prediction[0][0]}\")"
      ],
      "metadata": {
        "colab": {
          "base_uri": "https://localhost:8080/"
        },
        "id": "CHtz3EisMW7r",
        "outputId": "71804339-446f-4ae3-c12f-bc49604b343c"
      },
      "execution_count": null,
      "outputs": [
        {
          "output_type": "stream",
          "name": "stdout",
          "text": [
            "Enter your input sequence (e.g., 11 12 13): 234 235 236\n",
            "\u001b[1m1/1\u001b[0m \u001b[32m━━━━━━━━━━━━━━━━━━━━\u001b[0m\u001b[37m\u001b[0m \u001b[1m0s\u001b[0m 206ms/step\n",
            "Input: [234. 235. 236.]\n",
            "Predicted output: 237.08221435546875\n"
          ]
        }
      ]
    }
  ]
}